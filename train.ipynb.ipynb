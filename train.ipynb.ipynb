{
 "cells": [
  {
   "cell_type": "code",
   "execution_count": 24,
   "metadata": {},
   "outputs": [],
   "source": [
    "import tensorflow as tf\n",
    "from tensorflow import keras\n",
    "import matplotlib.pyplot as plt\n",
    "import numpy as np\n",
    "import os\n",
    "from tensorflow.keras import layers, models"
   ]
  },
  {
   "cell_type": "code",
   "execution_count": 2,
   "metadata": {},
   "outputs": [
    {
     "data": {
      "text/plain": [
       "'2.14.0'"
      ]
     },
     "execution_count": 2,
     "metadata": {},
     "output_type": "execute_result"
    }
   ],
   "source": [
    "tf.__version__"
   ]
  },
  {
   "cell_type": "code",
   "execution_count": 132,
   "metadata": {},
   "outputs": [
    {
     "name": "stdout",
     "output_type": "stream",
     "text": [
      "GPU Memory Usage (MB): 3\n"
     ]
    }
   ],
   "source": [
    "import os\n",
    "\n",
    "gpu_memory = os.popen('nvidia-smi --query-gpu=memory.used --format=csv,nounits,noheader').read().strip()\n",
    "print(\"GPU Memory Usage (MB):\", gpu_memory)"
   ]
  },
  {
   "cell_type": "code",
   "execution_count": 133,
   "metadata": {},
   "outputs": [],
   "source": [
    "\n",
    "(train_images, train_labels), (val_images, val_labels) = tf.keras.datasets.mnist.load_data()\n",
    "\n",
    "train_images = np.expand_dims(train_images, axis=-1)\n",
    "val_images = np.expand_dims(val_images, axis=-1)\n",
    "\n",
    "train_images = train_images.astype('float32')/255.0\n",
    "val_images = val_images.astype('float32')/255.0\n",
    "\n",
    "train_images = tf.image.grayscale_to_rgb(tf.image.resize(train_images, (32,32)))\n",
    "val_images = tf.image.grayscale_to_rgb(tf.image.resize(val_images, (32,32)))\n",
    "\n",
    "train_labels = tf.keras.utils.to_categorical(train_labels, 10)\n",
    "val_labels = tf.keras.utils.to_categorical(val_labels, 10)\n",
    "\n",
    "def data_generator(images, labels, batch_size=64):\n",
    "    dataset = tf.data.Dataset.from_tensor_slices((images, labels))\n",
    "    dataset = dataset.cache()\n",
    "    dataset = dataset.shuffle(20000)\n",
    "    dataset = dataset.batch(batch_size)\n",
    "    dataset = dataset.prefetch(tf.data.AUTOTUNE)\n",
    "    return dataset\n",
    "\n",
    "train_dataset = data_generator(train_images, train_labels)\n",
    "val_dataset = data_generator(val_images, val_labels)"
   ]
  },
  {
   "cell_type": "code",
   "execution_count": 134,
   "metadata": {},
   "outputs": [
    {
     "name": "stdout",
     "output_type": "stream",
     "text": [
      "1. train_labels :(60000, 10), val_labels : (10000, 10)\n"
     ]
    }
   ],
   "source": [
    "print(f'1. train_labels :{train_labels.shape}, val_labels : {val_labels.shape}')"
   ]
  },
  {
   "cell_type": "code",
   "execution_count": 135,
   "metadata": {},
   "outputs": [
    {
     "name": "stdout",
     "output_type": "stream",
     "text": [
      "(64, 32, 32, 3)\n",
      "<class 'tensorflow.python.framework.tensor_shape.TensorShape'>\n",
      "(64, 10)\n",
      "Normalized values:  (0.0, 0.99215686)\n"
     ]
    },
    {
     "name": "stderr",
     "output_type": "stream",
     "text": [
      "2024-08-17 19:00:58.449817: W tensorflow/core/kernels/data/cache_dataset_ops.cc:854] The calling iterator did not fully read the dataset being cached. In order to avoid unexpected truncation of the dataset, the partially cached contents of the dataset  will be discarded. This can happen if you have an input pipeline similar to `dataset.cache().take(k).repeat()`. You should use `dataset.take(k).cache().repeat()` instead.\n"
     ]
    },
    {
     "data": {
      "image/png": "[encoded data removed]",
      "text/plain": [
       "<Figure size 640x480 with 1 Axes>"
      ]
     },
     "metadata": {},
     "output_type": "display_data"
    }
   ],
   "source": [
    "for img_batch, label_batch in train_dataset.take(1):\n",
    "    print(img_batch.shape)\n",
    "    print(type(img_batch.shape))\n",
    "    print(label_batch.shape)\n",
    "    img = np.array(img_batch)\n",
    "    label = np.argmax(label_batch)\n",
    "    print('Normalized values: ', (np.min(img_batch[0]), np.max(img_batch[0])))\n",
    "    plt.imshow(img[0])\n",
    "    plt.title(f\"label : {label}\")"
   ]
  },
  {
   "cell_type": "code",
   "execution_count": 136,
   "metadata": {},
   "outputs": [
    {
     "name": "stdout",
     "output_type": "stream",
     "text": [
      "number of val batches: 157\n",
      "number of images in val set : 4544\n",
      "number of test batches :%d tf.Tensor(15, shape=(), dtype=int64)\n",
      "number of images in test_set: 480\n"
     ]
    }
   ],
   "source": [
    "\n",
    "val_batches = tf.data.experimental.cardinality(val_dataset) #calcute no.of batches in val_set\n",
    "\n",
    "test_dataset = val_dataset.take(val_batches // 10) #take the first 20% of the val set, and create a new test set\n",
    "val_dataset = val_dataset.skip(val_batches // 10) #skip the first 20% of the data used for creating test set\n",
    "batch_size = 32\n",
    "\n",
    "print('number of val batches: %d' % val_batches)\n",
    "print('number of images in val set :', len(val_dataset)*batch_size)\n",
    "print('number of test batches :%d', tf.data.experimental.cardinality(test_dataset))\n",
    "print('number of images in test_set:', len(test_dataset)*batch_size)"
   ]
  },
  {
   "cell_type": "code",
   "execution_count": 137,
   "metadata": {},
   "outputs": [
    {
     "name": "stdout",
     "output_type": "stream",
     "text": [
      "number of val batches: 142\n",
      "number of images in val set : 4096\n",
      "number of test batches :%d tf.Tensor(14, shape=(), dtype=int64)\n",
      "number of images in test_set: 448\n"
     ]
    }
   ],
   "source": [
    "val_batches = tf.data.experimental.cardinality(val_dataset) #calcute no.of batches in val_set\n",
    "\n",
    "test_dataset = val_dataset.take(val_batches // 10) #take the first 20% of the val set, and create a new test set\n",
    "val_dataset = val_dataset.skip(val_batches // 10) #skip the first 20% of the data used for creating test set\n",
    "batch_size = 32\n",
    "\n",
    "print('number of val batches: %d' % val_batches)\n",
    "print('number of images in val set :', len(val_dataset)*batch_size)\n",
    "print('number of test batches :%d', tf.data.experimental.cardinality(test_dataset))\n",
    "print('number of images in test_set:', len(test_dataset)*batch_size)"
   ]
  },
  {
   "cell_type": "code",
   "execution_count": 126,
   "metadata": {},
   "outputs": [
    {
     "data": {
      "text/plain": [
       "'/home/s2310144/workshop/Underspecification/mnist/test_dataset.zip'"
      ]
     },
     "execution_count": 126,
     "metadata": {},
     "output_type": "execute_result"
    }
   ],
   "source": [
    "# import shutil\n",
    "# # test_dataset.save('test_dataset')\n",
    "# shutil.make_archive(\"test_dataset\", \"zip\", \"test_dataset\")"
   ]
  },
  {
   "cell_type": "code",
   "execution_count": 46,
   "metadata": {},
   "outputs": [],
   "source": [
    "cnn_model = keras.Sequential(\n",
    "    [\n",
    "        keras.Input(shape=(32,32,3)),\n",
    "        layers.Conv2D(32, kernel_size=(3, 3), activation=\"relu\"),\n",
    "        layers.MaxPooling2D(pool_size=(2, 2)),\n",
    "        layers.Conv2D(64, kernel_size=(3, 3), activation=\"relu\"),\n",
    "        layers.MaxPooling2D(pool_size=(2, 2)),\n",
    "        layers.Flatten(),\n",
    "        layers.Dropout(0.5),\n",
    "        layers.Dense(10, activation=\"softmax\"),\n",
    "    ]\n",
    ")"
   ]
  },
  {
   "cell_type": "code",
   "execution_count": 47,
   "metadata": {},
   "outputs": [
    {
     "name": "stdout",
     "output_type": "stream",
     "text": [
      "Model: \"sequential_1\"\n",
      "_________________________________________________________________\n",
      " Layer (type)                Output Shape              Param #   \n",
      "=================================================================\n",
      " conv2d (Conv2D)             (None, 30, 30, 32)        896       \n",
      "                                                                 \n",
      " max_pooling2d (MaxPooling2  (None, 15, 15, 32)        0         \n",
      " D)                                                              \n",
      "                                                                 \n",
      " conv2d_1 (Conv2D)           (None, 13, 13, 64)        18496     \n",
      "                                                                 \n",
      " max_pooling2d_1 (MaxPoolin  (None, 6, 6, 64)          0         \n",
      " g2D)                                                            \n",
      "                                                                 \n",
      " flatten (Flatten)           (None, 2304)              0         \n",
      "                                                                 \n",
      " dropout_1 (Dropout)         (None, 2304)              0         \n",
      "                                                                 \n",
      " dense_2 (Dense)             (None, 10)                23050     \n",
      "                                                                 \n",
      "=================================================================\n",
      "Total params: 42442 (165.79 KB)\n",
      "Trainable params: 42442 (165.79 KB)\n",
      "Non-trainable params: 0 (0.00 Byte)\n",
      "_________________________________________________________________\n"
     ]
    }
   ],
   "source": [
    "cnn_model.summary()"
   ]
  },
  {
   "cell_type": "code",
   "execution_count": 48,
   "metadata": {},
   "outputs": [
    {
     "name": "stdout",
     "output_type": "stream",
     "text": [
      "Epoch 1/10\n",
      "938/938 [==============================] - 5s 5ms/step - loss: 0.2327 - accuracy: 0.9280 - val_loss: 0.0605 - val_accuracy: 0.9802\n",
      "Epoch 2/10\n",
      "938/938 [==============================] - 4s 5ms/step - loss: 0.0845 - accuracy: 0.9745 - val_loss: 0.0417 - val_accuracy: 0.9865\n",
      "Epoch 3/10\n",
      "938/938 [==============================] - 4s 5ms/step - loss: 0.0641 - accuracy: 0.9798 - val_loss: 0.0341 - val_accuracy: 0.9882\n",
      "Epoch 4/10\n",
      "938/938 [==============================] - 4s 5ms/step - loss: 0.0559 - accuracy: 0.9826 - val_loss: 0.0322 - val_accuracy: 0.9878\n",
      "Epoch 5/10\n",
      "938/938 [==============================] - 4s 5ms/step - loss: 0.0474 - accuracy: 0.9848 - val_loss: 0.0287 - val_accuracy: 0.9904\n",
      "Epoch 6/10\n",
      "938/938 [==============================] - 4s 5ms/step - loss: 0.0424 - accuracy: 0.9867 - val_loss: 0.0238 - val_accuracy: 0.9929\n",
      "Epoch 7/10\n",
      "938/938 [==============================] - 4s 5ms/step - loss: 0.0421 - accuracy: 0.9870 - val_loss: 0.0248 - val_accuracy: 0.9914\n",
      "Epoch 8/10\n",
      "938/938 [==============================] - 4s 5ms/step - loss: 0.0379 - accuracy: 0.9877 - val_loss: 0.0249 - val_accuracy: 0.9912\n",
      "Epoch 9/10\n",
      "938/938 [==============================] - 4s 5ms/step - loss: 0.0351 - accuracy: 0.9890 - val_loss: 0.0245 - val_accuracy: 0.9919\n",
      "Epoch 10/10\n",
      "938/938 [==============================] - 4s 5ms/step - loss: 0.0328 - accuracy: 0.9894 - val_loss: 0.0238 - val_accuracy: 0.9934\n",
      "CPU times: user 11min 2s, sys: 41 s, total: 11min 43s\n",
      "Wall time: 45.3 s\n"
     ]
    }
   ],
   "source": [
    "%%time\n",
    "cnn_model.compile(optimizer='adam',\n",
    "                  loss='categorical_crossentropy',\n",
    "                  metrics=[\"accuracy\"])\n",
    "\n",
    "history = cnn_model.fit(train_dataset, batch_size=128, epochs=10,\n",
    "                            validation_data=(val_dataset))"
   ]
  },
  {
   "cell_type": "code",
   "execution_count": 49,
   "metadata": {},
   "outputs": [
    {
     "name": "stdout",
     "output_type": "stream",
     "text": [
      "128/128 [==============================] - 0s 2ms/step - loss: 0.0239 - accuracy: 0.9932\n",
      "Validation accuracy: 0.9932\n"
     ]
    },
    {
     "data": {
      "image/png": "[encoded data removed]",
      "text/plain": [
       "<Figure size 1000x500 with 2 Axes>"
      ]
     },
     "metadata": {},
     "output_type": "display_data"
    }
   ],
   "source": [
    "# Evaluate the model\n",
    "val_loss, val_acc = cnn_model.evaluate(val_dataset)\n",
    "print(f\"Validation accuracy: {val_acc:.4f}\")\n",
    "\n",
    "\n",
    "plt.figure(figsize=(10,5))\n",
    "#plot training & validation accuracy values\n",
    "plt.subplot(1,2,1)\n",
    "plt.plot(history.history['accuracy'])\n",
    "plt.plot(history.history['val_accuracy'])\n",
    "plt.title('Model accuracy')\n",
    "plt.xlabel('Epoch')\n",
    "plt.ylabel('accuracy')\n",
    "plt.legend(['Train', 'Validation'], loc='upper left')\n",
    "\n",
    "# Plot training & validation loss values\n",
    "plt.subplot(1,2,2)\n",
    "plt.plot(history.history['loss'])\n",
    "plt.plot(history.history['val_loss'])\n",
    "plt.title('Model loss')\n",
    "plt.xlabel('Epoch')\n",
    "plt.ylabel('Loss')\n",
    "plt.legend(['Train', 'Validation'], loc='upper left')\n",
    "\n",
    "plt.show()"
   ]
  },
  {
   "cell_type": "code",
   "execution_count": 28,
   "metadata": {},
   "outputs": [],
   "source": [
    "#multi layer perceptron\n",
    "mlp_model = models.Sequential([\n",
    "    layers.Flatten(input_shape=(32,32,3)),\n",
    "    layers.Dense(256, activation='relu'),\n",
    "\n",
    "    layers.Dense(128, activation='relu'),\n",
    "    layers.Dense(64, activation='relu'),\n",
    "    \n",
    "    layers.Dropout(0.4),\n",
    "    layers.Dense(10, activation='softmax')\n",
    "] )"
   ]
  },
  {
   "cell_type": "code",
   "execution_count": 25,
   "metadata": {},
   "outputs": [
    {
     "name": "stdout",
     "output_type": "stream",
     "text": [
      "Model: \"sequential_3\"\n",
      "_________________________________________________________________\n",
      " Layer (type)                Output Shape              Param #   \n",
      "=================================================================\n",
      " flatten_3 (Flatten)         (None, 3072)              0         \n",
      "                                                                 \n",
      " dense_9 (Dense)             (None, 256)               786688    \n",
      "                                                                 \n",
      " dense_10 (Dense)            (None, 128)               32896     \n",
      "                                                                 \n",
      " dense_11 (Dense)            (None, 64)                8256      \n",
      "                                                                 \n",
      " dense_12 (Dense)            (None, 32)                2080      \n",
      "                                                                 \n",
      " dropout_3 (Dropout)         (None, 32)                0         \n",
      "                                                                 \n",
      " dense_13 (Dense)            (None, 10)                330       \n",
      "                                                                 \n",
      "=================================================================\n",
      "Total params: 830250 (3.17 MB)\n",
      "Trainable params: 830250 (3.17 MB)\n",
      "Non-trainable params: 0 (0.00 Byte)\n",
      "_________________________________________________________________\n"
     ]
    }
   ],
   "source": [
    "mlp_model.summary()"
   ]
  },
  {
   "cell_type": "code",
   "execution_count": 29,
   "metadata": {},
   "outputs": [
    {
     "name": "stdout",
     "output_type": "stream",
     "text": [
      "Epoch 1/10\n",
      "3750/3750 [==============================] - 11s 3ms/step - loss: 0.2833 - accuracy: 0.9201 - val_loss: 0.1524 - val_accuracy: 0.9571\n",
      "Epoch 2/10\n",
      "3750/3750 [==============================] - 10s 3ms/step - loss: 0.1480 - accuracy: 0.9598 - val_loss: 0.1205 - val_accuracy: 0.9665\n",
      "Epoch 3/10\n",
      "3750/3750 [==============================] - 10s 3ms/step - loss: 0.1129 - accuracy: 0.9686 - val_loss: 0.1189 - val_accuracy: 0.9711\n",
      "Epoch 4/10\n",
      "3750/3750 [==============================] - 10s 3ms/step - loss: 0.0934 - accuracy: 0.9743 - val_loss: 0.1161 - val_accuracy: 0.9724\n",
      "Epoch 5/10\n",
      "3750/3750 [==============================] - 10s 3ms/step - loss: 0.0796 - accuracy: 0.9784 - val_loss: 0.1213 - val_accuracy: 0.9749\n",
      "Epoch 6/10\n",
      "3750/3750 [==============================] - 10s 3ms/step - loss: 0.0700 - accuracy: 0.9802 - val_loss: 0.1180 - val_accuracy: 0.9740\n",
      "Epoch 7/10\n",
      "3750/3750 [==============================] - 10s 3ms/step - loss: 0.0652 - accuracy: 0.9817 - val_loss: 0.1176 - val_accuracy: 0.9755\n",
      "Epoch 8/10\n",
      "3750/3750 [==============================] - 10s 3ms/step - loss: 0.0582 - accuracy: 0.9836 - val_loss: 0.1220 - val_accuracy: 0.9756\n",
      "Epoch 9/10\n",
      "3750/3750 [==============================] - 10s 3ms/step - loss: 0.0566 - accuracy: 0.9847 - val_loss: 0.1445 - val_accuracy: 0.9765\n",
      "Epoch 10/10\n",
      "3750/3750 [==============================] - 10s 3ms/step - loss: 0.0494 - accuracy: 0.9858 - val_loss: 0.1251 - val_accuracy: 0.9779\n"
     ]
    }
   ],
   "source": [
    "mlp_model.compile(optimizer=('adam'),\n",
    "                  loss='categorical_crossentropy',\n",
    "                  metrics=['accuracy'])\n",
    "\n",
    "history_mlp = mlp_model.fit(train_dataset,\n",
    "                            epochs=10,\n",
    "                            validation_data=(val_dataset)\n",
    "                            )"
   ]
  },
  {
   "cell_type": "code",
   "execution_count": 30,
   "metadata": {},
   "outputs": [
    {
     "name": "stdout",
     "output_type": "stream",
     "text": [
      "563/563 [==============================] - 1s 1ms/step - loss: 0.1244 - accuracy: 0.9779\n",
      "Validation accuracy: 0.9779\n"
     ]
    },
    {
     "data": {
      "image/png": "[encoded data removed]",
      "text/plain": [
       "<Figure size 1000x600 with 2 Axes>"
      ]
     },
     "metadata": {},
     "output_type": "display_data"
    }
   ],
   "source": [
    "# Evaluate the mlp_model\n",
    "val_loss_mlp, val_acc_mlp = mlp_model.evaluate(val_dataset)\n",
    "print(f\"Validation accuracy: {val_acc_mlp:.4f}\")\n",
    "\n",
    "\n",
    "plt.figure(figsize=(10,6))\n",
    "#plot training & validation accuracy values\n",
    "plt.subplot(1,2,1)\n",
    "plt.plot(history_mlp.history['accuracy'])\n",
    "plt.plot(history_mlp.history['val_accuracy'])\n",
    "plt.title('Model accuracy')\n",
    "plt.xlabel('Epoch')\n",
    "plt.ylabel('accuracy')\n",
    "plt.legend(['Train', 'Validation'], loc='upper left')\n",
    "\n",
    "# Plot training & validation loss values\n",
    "plt.subplot(1,2,2)\n",
    "plt.plot(history_mlp.history['loss'])\n",
    "plt.plot(history_mlp.history['val_loss'])\n",
    "plt.title('Model loss')\n",
    "plt.xlabel('Epoch')\n",
    "plt.ylabel('Loss')\n",
    "plt.legend(['Train', 'Validation'], loc='upper left')\n",
    "\n",
    "plt.show()"
   ]
  },
  {
   "cell_type": "code",
   "execution_count": null,
   "metadata": {},
   "outputs": [],
   "source": [
    "# cnn_model.save('models/std/cnn_mnist_std.h5')\n",
    "# mlp_model.save('models/std/mlp_mnist_std.h5')"
   ]
  },
  {
   "cell_type": "code",
   "execution_count": 71,
   "metadata": {
    "editable": true,
    "slideshow": {
     "slide_type": ""
    },
    "tags": []
   },
   "outputs": [],
   "source": [
    "base_mobilenet = tf.keras.applications.MobileNetV2(weights=None,\n",
    "                                                   include_top=False,\n",
    "                                                   input_shape=(32, 32, 3))\n",
    "\n",
    "#add fully connected layers\n",
    "mobilenet_model= models.Sequential()\n",
    "\n",
    "mobilenet_model.add(base_mobilenet)\n",
    "mobilenet_model.add(layers.GlobalAveragePooling2D())\n",
    "\n",
    "mobilenet_model.add(layers.Dense(256, activation='relu'))\n",
    "mobilenet_model.add(layers.Dropout(0.4))\n",
    "mobilenet_model.add(layers.Dense(10, activation='softmax'))\n",
    "\n",
    "#train with MNIST\n",
    "mobilenet_model.compile(optimizer=keras.optimizers.Adam(), loss=\"categorical_crossentropy\", metrics=['accuracy'])"
   ]
  },
  {
   "cell_type": "code",
   "execution_count": 68,
   "metadata": {},
   "outputs": [
    {
     "name": "stdout",
     "output_type": "stream",
     "text": [
      "Model: \"sequential_10\"\n",
      "_________________________________________________________________\n",
      " Layer (type)                Output Shape              Param #   \n",
      "=================================================================\n",
      " mobilenetv2_1.00_32 (Funct  (None, 1, 1, 1280)        2257984   \n",
      " ional)                                                          \n",
      "                                                                 \n",
      " global_average_pooling2d_5  (None, 1280)              0         \n",
      "  (GlobalAveragePooling2D)                                       \n",
      "                                                                 \n",
      " dense_26 (Dense)            (None, 256)               327936    \n",
      "                                                                 \n",
      " dropout_7 (Dropout)         (None, 256)               0         \n",
      "                                                                 \n",
      " dense_27 (Dense)            (None, 10)                2570      \n",
      "                                                                 \n",
      "=================================================================\n",
      "Total params: 2588490 (9.87 MB)\n",
      "Trainable params: 2554378 (9.74 MB)\n",
      "Non-trainable params: 34112 (133.25 KB)\n",
      "_________________________________________________________________\n"
     ]
    }
   ],
   "source": [
    "mobilenet_model.summary()"
   ]
  },
  {
   "cell_type": "code",
   "execution_count": 72,
   "metadata": {},
   "outputs": [
    {
     "name": "stdout",
     "output_type": "stream",
     "text": [
      "Epoch 1/10\n",
      "3750/3750 [==============================] - 218s 56ms/step - loss: 0.6120 - accuracy: 0.8298 - val_loss: 2.2953 - val_accuracy: 0.1716\n",
      "Epoch 2/10\n",
      "3750/3750 [==============================] - 212s 57ms/step - loss: 0.2564 - accuracy: 0.9446 - val_loss: 3.8313 - val_accuracy: 0.8368\n",
      "Epoch 3/10\n",
      "3750/3750 [==============================] - 216s 58ms/step - loss: 0.1863 - accuracy: 0.9609 - val_loss: 0.2764 - val_accuracy: 0.9657\n",
      "Epoch 4/10\n",
      "3750/3750 [==============================] - 216s 58ms/step - loss: 0.1543 - accuracy: 0.9682 - val_loss: 0.1832 - val_accuracy: 0.9742\n",
      "Epoch 5/10\n",
      "3750/3750 [==============================] - 215s 57ms/step - loss: 0.1193 - accuracy: 0.9748 - val_loss: 0.1182 - val_accuracy: 0.9792\n",
      "Epoch 6/10\n",
      "3750/3750 [==============================] - 211s 56ms/step - loss: 0.0951 - accuracy: 0.9787 - val_loss: 0.0657 - val_accuracy: 0.9858\n",
      "Epoch 7/10\n",
      "3750/3750 [==============================] - 213s 57ms/step - loss: 0.0859 - accuracy: 0.9806 - val_loss: 0.0915 - val_accuracy: 0.9805\n",
      "Epoch 8/10\n",
      "3750/3750 [==============================] - 211s 56ms/step - loss: 0.0777 - accuracy: 0.9821 - val_loss: 0.0594 - val_accuracy: 0.9857\n",
      "Epoch 9/10\n",
      "3750/3750 [==============================] - 211s 56ms/step - loss: 0.0677 - accuracy: 0.9851 - val_loss: 0.0510 - val_accuracy: 0.9848\n",
      "Epoch 10/10\n",
      "3750/3750 [==============================] - 215s 57ms/step - loss: 0.0607 - accuracy: 0.9862 - val_loss: 0.0590 - val_accuracy: 0.9842\n"
     ]
    },
    {
     "ename": "AttributeError",
     "evalue": "'History' object has no attribute 'save'",
     "output_type": "error",
     "traceback": [
      "\u001b[0;31m---------------------------------------------------------------------------\u001b[0m",
      "\u001b[0;31mAttributeError\u001b[0m                            Traceback (most recent call last)",
      "Cell \u001b[0;32mIn[72], line 10\u001b[0m\n\u001b[1;32m      7\u001b[0m MN_std_val_acc \u001b[38;5;241m=\u001b[39m \u001b[38;5;28mmax\u001b[39m(mobilenet_std\u001b[38;5;241m.\u001b[39mhistory[\u001b[38;5;124m'\u001b[39m\u001b[38;5;124mval_accuracy\u001b[39m\u001b[38;5;124m'\u001b[39m])\n\u001b[1;32m      9\u001b[0m \u001b[38;5;28;01mif\u001b[39;00m MN_std_train_acc \u001b[38;5;241m>\u001b[39m \u001b[38;5;241m0.90\u001b[39m \u001b[38;5;129;01mand\u001b[39;00m MN_std_val_acc \u001b[38;5;241m>\u001b[39m \u001b[38;5;241m0.90\u001b[39m:\n\u001b[0;32m---> 10\u001b[0m     \u001b[43mmobilenet_std\u001b[49m\u001b[38;5;241;43m.\u001b[39;49m\u001b[43msave\u001b[49m(\u001b[38;5;124m'\u001b[39m\u001b[38;5;124mmodels/std/mobilenet_std.h5\u001b[39m\u001b[38;5;124m'\u001b[39m)\n\u001b[1;32m     11\u001b[0m     \u001b[38;5;28mprint\u001b[39m(\u001b[38;5;124m'\u001b[39m\u001b[38;5;124mModel saved as mobilenet_std.h5\u001b[39m\u001b[38;5;124m'\u001b[39m)\n\u001b[1;32m     13\u001b[0m plt\u001b[38;5;241m.\u001b[39mfigure(figsize\u001b[38;5;241m=\u001b[39m(\u001b[38;5;241m10\u001b[39m, \u001b[38;5;241m5\u001b[39m))\n",
      "\u001b[0;31mAttributeError\u001b[0m: 'History' object has no attribute 'save'"
     ]
    }
   ],
   "source": [
    "mobilenet_std = mobilenet_model.fit(train_dataset, \n",
    "                                        epochs=10, \n",
    "                                        validation_data=val_dataset)"
   ]
  },
  {
   "cell_type": "code",
   "execution_count": 73,
   "metadata": {},
   "outputs": [
    {
     "name": "stdout",
     "output_type": "stream",
     "text": [
      "Model saved as mobilenet_std.h5\n"
     ]
    },
    {
     "data": {
      "image/png": "[encoded data removed]",
      "text/plain": [
       "<Figure size 1000x500 with 2 Axes>"
      ]
     },
     "metadata": {},
     "output_type": "display_data"
    }
   ],
   "source": [
    "#save the model if accuracy thresholds are met\n",
    "MN_std_train_acc = max(mobilenet_std.history['accuracy'])\n",
    "MN_std_val_acc = max(mobilenet_std.history['val_accuracy'])\n",
    "\n",
    "if MN_std_train_acc > 0.90 and MN_std_val_acc > 0.90:\n",
    "    mobilenet_model.save('models/std/mobilenet_mnist_std.h5')\n",
    "    print('Model saved as mobilenet_std.h5')\n",
    "\n",
    "plt.figure(figsize=(10, 5))\n",
    "\n",
    "plt.subplot(1, 2, 1)\n",
    "plt.plot(mobilenet_std.history['accuracy'], label='Training Accuracy')\n",
    "plt.plot(mobilenet_std.history['val_accuracy'], label='Validation Accuracy')\n",
    "plt.xlabel('Epochs')\n",
    "plt.ylabel('Accuracy Value')\n",
    "plt.legend()\n",
    "\n",
    "plt.subplot(1, 2, 2)\n",
    "plt.plot(mobilenet_std.history['loss'], label='Training Loss')\n",
    "plt.plot(mobilenet_std.history['val_loss'], label='Validation Loss')\n",
    "plt.xlabel('Epochs')\n",
    "plt.ylabel('Loss Value')\n",
    "plt.legend()\n",
    "\n",
    "plt.tight_layout()\n",
    "plt.show()"
   ]
  },
  {
   "cell_type": "code",
   "execution_count": 52,
   "metadata": {},
   "outputs": [],
   "source": [
    "base_resnet = tf.keras.applications.ResNet50(weights= None,\n",
    "                                             include_top=False,\n",
    "                                             input_shape=(32, 32, 3))\n",
    "\n",
    "#add fully connected layers\n",
    "resnet_model= models.Sequential()\n",
    "\n",
    "resnet_model.add(base_resnet)\n",
    "resnet_model.add(layers.GlobalAveragePooling2D())\n",
    "\n",
    "resnet_model.add(layers.Dense(256, activation='relu'))\n",
    "resnet_model.add(layers.Dropout(0.4))\n",
    "resnet_model.add(layers.Dense(10, activation='softmax'))\n",
    "\n",
    "#train with MNIST\n",
    "resnet_model.compile(optimizer=keras.optimizers.Adam(), loss=\"categorical_crossentropy\", metrics=['accuracy'])"
   ]
  },
  {
   "cell_type": "code",
   "execution_count": 53,
   "metadata": {},
   "outputs": [
    {
     "name": "stdout",
     "output_type": "stream",
     "text": [
      "Model: \"sequential_2\"\n",
      "_________________________________________________________________\n",
      " Layer (type)                Output Shape              Param #   \n",
      "=================================================================\n",
      " resnet50 (Functional)       (None, 1, 1, 2048)        23587712  \n",
      "                                                                 \n",
      " global_average_pooling2d_1  (None, 2048)              0         \n",
      "  (GlobalAveragePooling2D)                                       \n",
      "                                                                 \n",
      " dense_3 (Dense)             (None, 256)               524544    \n",
      "                                                                 \n",
      " dropout_2 (Dropout)         (None, 256)               0         \n",
      "                                                                 \n",
      " dense_4 (Dense)             (None, 10)                2570      \n",
      "                                                                 \n",
      "=================================================================\n",
      "Total params: 24114826 (91.99 MB)\n",
      "Trainable params: 24061706 (91.79 MB)\n",
      "Non-trainable params: 53120 (207.50 KB)\n",
      "_________________________________________________________________\n"
     ]
    }
   ],
   "source": [
    "resnet_model.summary()"
   ]
  },
  {
   "cell_type": "code",
   "execution_count": 87,
   "metadata": {},
   "outputs": [
    {
     "name": "stdout",
     "output_type": "stream",
     "text": [
      "Epoch 1/10\n",
      "3750/3750 [==============================] - 289s 74ms/step - loss: 0.5189 - accuracy: 0.8645 - val_loss: 0.6676 - val_accuracy: 0.8217\n",
      "Epoch 2/10\n",
      "3750/3750 [==============================] - 275s 73ms/step - loss: 0.3184 - accuracy: 0.9243 - val_loss: 0.1459 - val_accuracy: 0.9649\n",
      "Epoch 3/10\n",
      "3750/3750 [==============================] - 275s 73ms/step - loss: 0.3010 - accuracy: 0.9249 - val_loss: 0.0934 - val_accuracy: 0.9776\n",
      "Epoch 4/10\n",
      "3750/3750 [==============================] - 274s 73ms/step - loss: 0.2137 - accuracy: 0.9477 - val_loss: 0.2944 - val_accuracy: 0.9274\n",
      "Epoch 5/10\n",
      "3750/3750 [==============================] - 274s 73ms/step - loss: 0.2105 - accuracy: 0.9476 - val_loss: 0.0649 - val_accuracy: 0.9822\n",
      "Epoch 6/10\n",
      "3750/3750 [==============================] - 274s 73ms/step - loss: 0.1147 - accuracy: 0.9746 - val_loss: 0.0475 - val_accuracy: 0.9875\n",
      "Epoch 7/10\n",
      "3750/3750 [==============================] - 274s 73ms/step - loss: 0.1018 - accuracy: 0.9766 - val_loss: 0.0497 - val_accuracy: 0.9858\n",
      "Epoch 8/10\n",
      "3750/3750 [==============================] - 274s 73ms/step - loss: 0.0801 - accuracy: 0.9817 - val_loss: 0.0442 - val_accuracy: 0.9889\n",
      "Epoch 9/10\n",
      "3750/3750 [==============================] - 275s 73ms/step - loss: 0.0794 - accuracy: 0.9825 - val_loss: 0.0349 - val_accuracy: 0.9910\n",
      "Epoch 10/10\n",
      "3750/3750 [==============================] - 274s 73ms/step - loss: 0.0663 - accuracy: 0.9858 - val_loss: 0.0618 - val_accuracy: 0.9820\n",
      "Model saved as resnet_std.h5\n"
     ]
    },
    {
     "ename": "NameError",
     "evalue": "name 'resnetnet_std' is not defined",
     "output_type": "error",
     "traceback": [
      "\u001b[0;31m---------------------------------------------------------------------------\u001b[0m",
      "\u001b[0;31mNameError\u001b[0m                                 Traceback (most recent call last)",
      "File \u001b[0;32m<timed exec>:18\u001b[0m\n",
      "\u001b[0;31mNameError\u001b[0m: name 'resnetnet_std' is not defined"
     ]
    },
    {
     "data": {
      "image/png": "[encoded data removed]",
      "text/plain": [
       "<Figure size 1000x500 with 1 Axes>"
      ]
     },
     "metadata": {},
     "output_type": "display_data"
    }
   ],
   "source": [
    "%%time\n",
    "resnet_std = resnet_model.fit(train_dataset,\n",
    "                            epochs=10, \n",
    "                            validation_data=val_dataset)\n",
    "\n",
    "# Save the model if accuracy thresholds are met\n",
    "resnet_std_train_acc = max(resnet_std.history['accuracy'])\n",
    "resnet_std_val_acc = max(resnet_std.history['val_accuracy'])\n",
    "\n",
    "if resnet_std_train_acc > 0.90 and resnet_std_val_acc > 0.90:\n",
    "    resnet_model.save('models/std/resnet_mnist_std.h5')\n",
    "    print('Model saved as resnet_std.h5')"
   ]
  },
  {
   "cell_type": "code",
   "execution_count": 88,
   "metadata": {},
   "outputs": [
    {
     "data": {
      "image/png": "[encoded data removed]",
      "text/plain": [
       "<Figure size 1000x500 with 2 Axes>"
      ]
     },
     "metadata": {},
     "output_type": "display_data"
    }
   ],
   "source": [
    "# Plot accuracy\n",
    "plt.figure(figsize=(10, 5))\n",
    "\n",
    "# Plot training and validation accuracy\n",
    "plt.subplot(1, 2, 1)\n",
    "plt.plot(resnet_std.history['accuracy'], label='Training Accuracy')\n",
    "plt.plot(resnet_std.history['val_accuracy'], label='Validation Accuracy')\n",
    "plt.xlabel('Epochs')\n",
    "plt.ylabel('Accuracy Value')\n",
    "plt.legend()\n",
    "\n",
    "# Plot training and validation loss\n",
    "plt.subplot(1, 2, 2)\n",
    "plt.plot(resnet_std.history['loss'], label='Training Loss')\n",
    "plt.plot(resnet_std.history['val_loss'], label='Validation Loss')\n",
    "plt.xlabel('Epochs')\n",
    "plt.ylabel('Loss Value')\n",
    "plt.legend()\n",
    "\n",
    "plt.tight_layout()\n",
    "plt.show()"
   ]
  },
  {
   "cell_type": "code",
   "execution_count": 59,
   "metadata": {},
   "outputs": [],
   "source": [
    "base_densenet = tf.keras.applications.DenseNet121(weights=None, \n",
    "                                                  include_top=False,\n",
    "                                                  input_shape=(32, 32, 3))\n",
    "\n",
    "#add fully connected layers\n",
    "densenet_model= models.Sequential()\n",
    "\n",
    "densenet_model.add(base_densenet)\n",
    "densenet_model.add(layers.GlobalAveragePooling2D())\n",
    "\n",
    "densenet_model.add(layers.Dense(256, activation='relu'))\n",
    "densenet_model.add(layers.Dropout(0.4)),\n",
    "densenet_model.add(layers.Dense(10, activation='softmax'))\n",
    "\n",
    "#train with MNIST\n",
    "densenet_model.compile(optimizer=keras.optimizers.Adam(), loss=\"categorical_crossentropy\", metrics=['accuracy'])"
   ]
  },
  {
   "cell_type": "code",
   "execution_count": 60,
   "metadata": {},
   "outputs": [
    {
     "name": "stdout",
     "output_type": "stream",
     "text": [
      "Model: \"sequential_3\"\n",
      "_________________________________________________________________\n",
      " Layer (type)                Output Shape              Param #   \n",
      "=================================================================\n",
      " densenet121 (Functional)    (None, 1, 1, 1024)        7037504   \n",
      "                                                                 \n",
      " global_average_pooling2d_2  (None, 1024)              0         \n",
      "  (GlobalAveragePooling2D)                                       \n",
      "                                                                 \n",
      " dense_5 (Dense)             (None, 256)               262400    \n",
      "                                                                 \n",
      " dropout_3 (Dropout)         (None, 256)               0         \n",
      "                                                                 \n",
      " dense_6 (Dense)             (None, 10)                2570      \n",
      "                                                                 \n",
      "=================================================================\n",
      "Total params: 7302474 (27.86 MB)\n",
      "Trainable params: 7218826 (27.54 MB)\n",
      "Non-trainable params: 83648 (326.75 KB)\n",
      "_________________________________________________________________\n"
     ]
    }
   ],
   "source": [
    "densenet_model.summary()"
   ]
  },
  {
   "cell_type": "code",
   "execution_count": 96,
   "metadata": {},
   "outputs": [
    {
     "name": "stdout",
     "output_type": "stream",
     "text": [
      "Epoch 1/10\n",
      "3750/3750 [==============================] - 523s 133ms/step - loss: 0.2083 - accuracy: 0.9438 - val_loss: 0.0728 - val_accuracy: 0.9776\n",
      "Epoch 2/10\n",
      "3750/3750 [==============================] - 496s 132ms/step - loss: 0.1141 - accuracy: 0.9705 - val_loss: 0.0513 - val_accuracy: 0.9859\n",
      "Epoch 3/10\n",
      "3750/3750 [==============================] - 495s 132ms/step - loss: 0.0835 - accuracy: 0.9792 - val_loss: 0.0477 - val_accuracy: 0.9872\n",
      "Epoch 4/10\n",
      "3750/3750 [==============================] - 495s 132ms/step - loss: 0.0701 - accuracy: 0.9820 - val_loss: 0.0320 - val_accuracy: 0.9908\n",
      "Epoch 5/10\n",
      "3750/3750 [==============================] - 493s 132ms/step - loss: 0.0556 - accuracy: 0.9858 - val_loss: 0.0251 - val_accuracy: 0.9925\n",
      "Epoch 6/10\n",
      "3750/3750 [==============================] - 494s 132ms/step - loss: 0.0467 - accuracy: 0.9876 - val_loss: 0.0309 - val_accuracy: 0.9910\n",
      "Epoch 7/10\n",
      "3750/3750 [==============================] - 493s 132ms/step - loss: 0.0448 - accuracy: 0.9889 - val_loss: 0.0392 - val_accuracy: 0.9891\n",
      "Epoch 8/10\n",
      "3750/3750 [==============================] - 493s 131ms/step - loss: 0.0368 - accuracy: 0.9898 - val_loss: 0.0331 - val_accuracy: 0.9921\n",
      "Epoch 9/10\n",
      "3750/3750 [==============================] - 493s 131ms/step - loss: 0.0349 - accuracy: 0.9910 - val_loss: 0.0291 - val_accuracy: 0.9919\n",
      "Epoch 10/10\n",
      "3750/3750 [==============================] - 493s 132ms/step - loss: 0.0273 - accuracy: 0.9927 - val_loss: 0.0375 - val_accuracy: 0.9917\n",
      "Model saved as densenet_std.h5\n"
     ]
    },
    {
     "data": {
      "image/png": "[encoded data removed]",
      "text/plain": [
       "<Figure size 1000x500 with 2 Axes>"
      ]
     },
     "metadata": {},
     "output_type": "display_data"
    }
   ],
   "source": [
    "densenet_std = densenet_model.fit(train_dataset, \n",
    "                                 epochs=10, \n",
    "                                 validation_data=val_dataset)\n",
    "\n",
    "# Save the model if accuracy thresholds are met\n",
    "densenet_std_train_acc = max(densenet_std.history['accuracy'])\n",
    "densenet_std_val_acc = max(densenet_std.history['val_accuracy'])\n",
    "\n",
    "if densenet_std_train_acc > 0.90 and densenet_std_val_acc > 0.90:\n",
    "    densenet_model.save('models/std/densenet_mnist_std.h5')\n",
    "    print('Model saved as densenet_std.h5')\n",
    "\n",
    "# Plot accuracy\n",
    "plt.figure(figsize=(10, 5))\n",
    "\n",
    "# Plot training and validation accuracy\n",
    "plt.subplot(1, 2, 1)\n",
    "plt.plot(densenet_std.history['accuracy'], label='Training Accuracy')\n",
    "plt.plot(densenet_std.history['val_accuracy'], label='Validation Accuracy')\n",
    "plt.xlabel('Epochs')\n",
    "plt.ylabel('Accuracy Value')\n",
    "plt.legend()\n",
    "\n",
    "# Plot training and validation loss\n",
    "plt.subplot(1, 2, 2)\n",
    "plt.plot(densenet_std.history['loss'], label='Training Loss')\n",
    "plt.plot(densenet_std.history['val_loss'], label='Validation Loss')\n",
    "plt.xlabel('Epochs')\n",
    "plt.ylabel('Loss Value')\n",
    "plt.legend()\n",
    "\n",
    "plt.tight_layout()\n",
    "plt.show()"
   ]
  },
  {
   "cell_type": "code",
   "execution_count": 45,
   "metadata": {},
   "outputs": [],
   "source": [
    "# Adversarial Training"
   ]
  },
  {
   "cell_type": "code",
   "execution_count": 50,
   "metadata": {},
   "outputs": [],
   "source": [
    "from tqdm import tqdm"
   ]
  },
  {
   "cell_type": "code",
   "execution_count": 54,
   "metadata": {},
   "outputs": [],
   "source": [
    "\"\"\"FGSM algorithm\"\"\"\n",
    "\n",
    "def create_adversarial_pattern(model, image, label):\n",
    "    # image = tf.convert_to_tensor(image) #should be avoided if the images are already in tensor format\n",
    "    # label = tf.convert_to_tensor(label)\n",
    "    with tf.GradientTape() as tape:#creates a tf.GradientTape object, which is used to record the gradients of the loss function with respect to the input image.\n",
    "        tape.watch(image)\n",
    "        prediction = model(image)\n",
    "        loss = tf.keras.losses.categorical_crossentropy(label, prediction)\n",
    "    gradient = tape.gradient(loss, image)\n",
    "    signed_grad = tf.sign(gradient)\n",
    "    return signed_grad\n",
    "\n",
    "\"For adversarial training\"\n",
    "def adv_training(model, epochs, epsilon = 0.01):\n",
    "    # Adversarial training loop\n",
    "    for epoch in range(epochs):\n",
    "        print(f'Epoch {epoch+1}/{epochs}')\n",
    "        for images, labels in tqdm(train_dataset, desc=\"Training batches\", leave=False):\n",
    "            # Generate adversarial examples\n",
    "            adv_images = images + epsilon * create_adversarial_pattern(model, images, labels)\n",
    "            adv_images = tf.clip_by_value(adv_images, 0.0, 1.0)  # Ensure the adversarial examples are valid images\n",
    "\n",
    "            # Combine clean and adversarial examples\n",
    "            combined_images = tf.concat([images, adv_images], axis=0)\n",
    "            combined_labels = tf.concat([labels, labels], axis=0)\n",
    "\n",
    "            # Train on both clean and adversarial examples\n",
    "            model.train_on_batch(combined_images, combined_labels)\n",
    "\n",
    "        # Evaluate on the test set\n",
    "        test_loss, test_acc = model.evaluate(val_dataset, verbose=2)\n",
    "        print(f'Loss: {test_loss}, Test accuracy: {test_acc}')\n",
    "        \n",
    "    return model"
   ]
  },
  {
   "cell_type": "code",
   "execution_count": 51,
   "metadata": {},
   "outputs": [
    {
     "name": "stdout",
     "output_type": "stream",
     "text": [
      "Epoch 1/10\n"
     ]
    },
    {
     "name": "stderr",
     "output_type": "stream",
     "text": [
      "                                                                                                                            \r"
     ]
    },
    {
     "name": "stdout",
     "output_type": "stream",
     "text": [
      "563/563 - 1s - loss: 0.0221 - accuracy: 0.9928 - 1s/epoch - 2ms/step\n",
      "\n",
      " Loss: 0.022061847150325775\n",
      "\n",
      "\n",
      "Test accuracy: 0.9927842020988464\n",
      "\n",
      "Epoch 2/10\n"
     ]
    },
    {
     "name": "stderr",
     "output_type": "stream",
     "text": [
      "                                                                                                                            \r"
     ]
    },
    {
     "name": "stdout",
     "output_type": "stream",
     "text": [
      "563/563 - 1s - loss: 0.0229 - accuracy: 0.9923 - 1s/epoch - 2ms/step\n",
      "\n",
      " Loss: 0.022878510877490044\n",
      "\n",
      "\n",
      "Test accuracy: 0.9923401474952698\n",
      "\n",
      "Epoch 3/10\n"
     ]
    },
    {
     "name": "stderr",
     "output_type": "stream",
     "text": [
      "                                                                                                                            \r"
     ]
    },
    {
     "name": "stdout",
     "output_type": "stream",
     "text": [
      "563/563 - 1s - loss: 0.0229 - accuracy: 0.9925 - 1s/epoch - 2ms/step\n",
      "\n",
      " Loss: 0.02291048876941204\n",
      "\n",
      "\n",
      "Test accuracy: 0.9924511313438416\n",
      "\n",
      "Epoch 4/10\n"
     ]
    },
    {
     "name": "stderr",
     "output_type": "stream",
     "text": [
      "                                                                                                                            \r"
     ]
    },
    {
     "name": "stdout",
     "output_type": "stream",
     "text": [
      "563/563 - 1s - loss: 0.0231 - accuracy: 0.9927 - 1s/epoch - 2ms/step\n",
      "\n",
      " Loss: 0.023069221526384354\n",
      "\n",
      "\n",
      "Test accuracy: 0.9926731586456299\n",
      "\n",
      "Epoch 5/10\n"
     ]
    },
    {
     "name": "stderr",
     "output_type": "stream",
     "text": [
      "                                                                                                                            \r"
     ]
    },
    {
     "name": "stdout",
     "output_type": "stream",
     "text": [
      "563/563 - 1s - loss: 0.0205 - accuracy: 0.9936 - 1s/epoch - 2ms/step\n",
      "\n",
      " Loss: 0.020514529198408127\n",
      "\n",
      "\n",
      "Test accuracy: 0.9935612678527832\n",
      "\n",
      "Epoch 6/10\n"
     ]
    },
    {
     "name": "stderr",
     "output_type": "stream",
     "text": [
      "                                                                                                                            \r"
     ]
    },
    {
     "name": "stdout",
     "output_type": "stream",
     "text": [
      "563/563 - 1s - loss: 0.0219 - accuracy: 0.9927 - 1s/epoch - 2ms/step\n",
      "\n",
      " Loss: 0.02191808819770813\n",
      "\n",
      "\n",
      "Test accuracy: 0.9926731586456299\n",
      "\n",
      "Epoch 7/10\n"
     ]
    },
    {
     "name": "stderr",
     "output_type": "stream",
     "text": [
      "                                                                                                                            \r"
     ]
    },
    {
     "name": "stdout",
     "output_type": "stream",
     "text": [
      "563/563 - 1s - loss: 0.0222 - accuracy: 0.9932 - 1s/epoch - 2ms/step\n",
      "\n",
      " Loss: 0.022221527993679047\n",
      "\n",
      "\n",
      "Test accuracy: 0.9932282567024231\n",
      "\n",
      "Epoch 8/10\n"
     ]
    },
    {
     "name": "stderr",
     "output_type": "stream",
     "text": [
      "                                                                                                                            \r"
     ]
    },
    {
     "name": "stdout",
     "output_type": "stream",
     "text": [
      "563/563 - 1s - loss: 0.0228 - accuracy: 0.9932 - 1s/epoch - 2ms/step\n",
      "\n",
      " Loss: 0.022795142605900764\n",
      "\n",
      "\n",
      "Test accuracy: 0.9932282567024231\n",
      "\n",
      "Epoch 9/10\n"
     ]
    },
    {
     "name": "stderr",
     "output_type": "stream",
     "text": [
      "                                                                                                                            \r"
     ]
    },
    {
     "name": "stdout",
     "output_type": "stream",
     "text": [
      "563/563 - 1s - loss: 0.0311 - accuracy: 0.9913 - 1s/epoch - 2ms/step\n",
      "\n",
      " Loss: 0.03110167756676674\n",
      "\n",
      "\n",
      "Test accuracy: 0.9913410544395447\n",
      "\n",
      "Epoch 10/10\n"
     ]
    },
    {
     "name": "stderr",
     "output_type": "stream",
     "text": [
      "                                                                                                                            \r"
     ]
    },
    {
     "name": "stdout",
     "output_type": "stream",
     "text": [
      "563/563 - 1s - loss: 0.0272 - accuracy: 0.9917 - 1s/epoch - 2ms/step\n",
      "\n",
      " Loss: 0.027224741876125336\n",
      "\n",
      "\n",
      "Test accuracy: 0.9916740655899048\n",
      "\n",
      "CPU times: user 1h 30min 9s, sys: 10min 50s, total: 1h 41min\n",
      "Wall time: 18min 8s\n"
     ]
    }
   ],
   "source": [
    "%%time\n",
    "#reuse same cnn architecture for adversarial training\n",
    "cnn_model.compile(optimizer='adam',\n",
    "                  loss='categorical_crossentropy',\n",
    "                  metrics=[\"accuracy\"])\n",
    "\n",
    "cnn_adv = adv_training(cnn_model, epochs=10)"
   ]
  },
  {
   "cell_type": "code",
   "execution_count": 56,
   "metadata": {},
   "outputs": [
    {
     "name": "stdout",
     "output_type": "stream",
     "text": [
      "Epoch 1/10\n"
     ]
    },
    {
     "name": "stderr",
     "output_type": "stream",
     "text": [
      "                                                                                                                            \r"
     ]
    },
    {
     "name": "stdout",
     "output_type": "stream",
     "text": [
      "563/563 - 1s - loss: 0.1117 - accuracy: 0.9747 - 864ms/epoch - 2ms/step\n",
      "\n",
      " Loss: 0.1117342934012413\n",
      "\n",
      "\n",
      "Test accuracy: 0.9746891856193542\n",
      "\n",
      "Epoch 2/10\n"
     ]
    },
    {
     "name": "stderr",
     "output_type": "stream",
     "text": [
      "                                                                                                                            \r"
     ]
    },
    {
     "name": "stdout",
     "output_type": "stream",
     "text": [
      "563/563 - 1s - loss: 0.1037 - accuracy: 0.9801 - 755ms/epoch - 1ms/step\n",
      "\n",
      " Loss: 0.10370634496212006\n",
      "\n",
      "\n",
      "Test accuracy: 0.9801287651062012\n",
      "\n",
      "Epoch 3/10\n"
     ]
    },
    {
     "name": "stderr",
     "output_type": "stream",
     "text": [
      "                                                                                                                            \r"
     ]
    },
    {
     "name": "stdout",
     "output_type": "stream",
     "text": [
      "563/563 - 1s - loss: 0.0991 - accuracy: 0.9817 - 743ms/epoch - 1ms/step\n",
      "\n",
      " Loss: 0.0990840420126915\n",
      "\n",
      "\n",
      "Test accuracy: 0.9816829562187195\n",
      "\n",
      "Epoch 4/10\n"
     ]
    },
    {
     "name": "stderr",
     "output_type": "stream",
     "text": [
      "                                                                                                                            \r"
     ]
    },
    {
     "name": "stdout",
     "output_type": "stream",
     "text": [
      "563/563 - 1s - loss: 0.1467 - accuracy: 0.9798 - 765ms/epoch - 1ms/step\n",
      "\n",
      " Loss: 0.14674803614616394\n",
      "\n",
      "\n",
      "Test accuracy: 0.9797957539558411\n",
      "\n",
      "Epoch 5/10\n"
     ]
    },
    {
     "name": "stderr",
     "output_type": "stream",
     "text": [
      "                                                                                                                            \r"
     ]
    },
    {
     "name": "stdout",
     "output_type": "stream",
     "text": [
      "563/563 - 1s - loss: 0.0943 - accuracy: 0.9831 - 759ms/epoch - 1ms/step\n",
      "\n",
      " Loss: 0.09429314732551575\n",
      "\n",
      "\n",
      "Test accuracy: 0.9831261038780212\n",
      "\n",
      "Epoch 6/10\n"
     ]
    },
    {
     "name": "stderr",
     "output_type": "stream",
     "text": [
      "                                                                                                                            \r"
     ]
    },
    {
     "name": "stdout",
     "output_type": "stream",
     "text": [
      "563/563 - 1s - loss: 0.1788 - accuracy: 0.9776 - 754ms/epoch - 1ms/step\n",
      "\n",
      " Loss: 0.17880932986736298\n",
      "\n",
      "\n",
      "Test accuracy: 0.9775754809379578\n",
      "\n",
      "Epoch 7/10\n"
     ]
    },
    {
     "name": "stderr",
     "output_type": "stream",
     "text": [
      "                                                                                                                            \r"
     ]
    },
    {
     "name": "stdout",
     "output_type": "stream",
     "text": [
      "563/563 - 1s - loss: 0.1183 - accuracy: 0.9827 - 730ms/epoch - 1ms/step\n",
      "\n",
      " Loss: 0.11828681081533432\n",
      "\n",
      "\n",
      "Test accuracy: 0.9826820492744446\n",
      "\n",
      "Epoch 8/10\n"
     ]
    },
    {
     "name": "stderr",
     "output_type": "stream",
     "text": [
      "                                                                                                                            \r"
     ]
    },
    {
     "name": "stdout",
     "output_type": "stream",
     "text": [
      "563/563 - 1s - loss: 0.1177 - accuracy: 0.9825 - 760ms/epoch - 1ms/step\n",
      "\n",
      " Loss: 0.11770132184028625\n",
      "\n",
      "\n",
      "Test accuracy: 0.9824600219726562\n",
      "\n",
      "Epoch 9/10\n"
     ]
    },
    {
     "name": "stderr",
     "output_type": "stream",
     "text": [
      "                                                                                                                            \r"
     ]
    },
    {
     "name": "stdout",
     "output_type": "stream",
     "text": [
      "563/563 - 1s - loss: 0.1377 - accuracy: 0.9805 - 739ms/epoch - 1ms/step\n",
      "\n",
      " Loss: 0.137714222073555\n",
      "\n",
      "\n",
      "Test accuracy: 0.980461835861206\n",
      "\n",
      "Epoch 10/10\n"
     ]
    },
    {
     "name": "stderr",
     "output_type": "stream",
     "text": [
      "                                                                                                                            \r"
     ]
    },
    {
     "name": "stdout",
     "output_type": "stream",
     "text": [
      "563/563 - 1s - loss: 0.1520 - accuracy: 0.9819 - 738ms/epoch - 1ms/step\n",
      "\n",
      " Loss: 0.15197956562042236\n",
      "\n",
      "\n",
      "Test accuracy: 0.9819049835205078\n",
      "\n",
      "CPU times: user 47min 11s, sys: 7min 46s, total: 54min 58s\n",
      "Wall time: 13min 39s\n"
     ]
    }
   ],
   "source": [
    "%%time\n",
    "#reuse same MLP architecture for adversarial training\n",
    "mlp_model.compile(optimizer=('adam'),\n",
    "                  loss='categorical_crossentropy',\n",
    "                  metrics=['accuracy'])\n",
    "\n",
    "mlp_adv = adv_training(mlp_model, epochs=10)"
   ]
  },
  {
   "cell_type": "code",
   "execution_count": null,
   "metadata": {},
   "outputs": [],
   "source": [
    "#retrain some pretrained models"
   ]
  },
  {
   "cell_type": "code",
   "execution_count": 100,
   "metadata": {},
   "outputs": [
    {
     "name": "stdout",
     "output_type": "stream",
     "text": [
      "Epoch 1/10\n"
     ]
    },
    {
     "name": "stderr",
     "output_type": "stream",
     "text": [
      "                                                                                                                            \r"
     ]
    },
    {
     "name": "stdout",
     "output_type": "stream",
     "text": [
      "563/563 - 11s - loss: 0.0477 - accuracy: 0.9867 - 11s/epoch - 19ms/step\n",
      "Loss: 0.04769020900130272, Test accuracy: 0.9866784811019897\n",
      "Epoch 2/10\n"
     ]
    },
    {
     "name": "stderr",
     "output_type": "stream",
     "text": [
      "                                                                                                                            \r"
     ]
    },
    {
     "name": "stdout",
     "output_type": "stream",
     "text": [
      "563/563 - 10s - loss: 0.0428 - accuracy: 0.9891 - 10s/epoch - 18ms/step\n",
      "Loss: 0.04280899465084076, Test accuracy: 0.9891207814216614\n",
      "Epoch 3/10\n"
     ]
    },
    {
     "name": "stderr",
     "output_type": "stream",
     "text": [
      "                                                                                                                            \r"
     ]
    },
    {
     "name": "stdout",
     "output_type": "stream",
     "text": [
      "563/563 - 10s - loss: 0.0393 - accuracy: 0.9891 - 10s/epoch - 18ms/step\n",
      "Loss: 0.03933775797486305, Test accuracy: 0.9891207814216614\n",
      "Epoch 4/10\n"
     ]
    },
    {
     "name": "stderr",
     "output_type": "stream",
     "text": [
      "                                                                                                                            \r"
     ]
    },
    {
     "name": "stdout",
     "output_type": "stream",
     "text": [
      "563/563 - 10s - loss: 0.0593 - accuracy: 0.9877 - 10s/epoch - 17ms/step\n",
      "Loss: 0.059320319443941116, Test accuracy: 0.9876776337623596\n",
      "Epoch 5/10\n"
     ]
    },
    {
     "name": "stderr",
     "output_type": "stream",
     "text": [
      "                                                                                                                            \r"
     ]
    },
    {
     "name": "stdout",
     "output_type": "stream",
     "text": [
      "563/563 - 9s - loss: 0.0579 - accuracy: 0.9842 - 9s/epoch - 16ms/step\n",
      "Loss: 0.0578744038939476, Test accuracy: 0.9842362403869629\n",
      "Epoch 6/10\n"
     ]
    },
    {
     "name": "stderr",
     "output_type": "stream",
     "text": [
      "                                                                                                                            \r"
     ]
    },
    {
     "name": "stdout",
     "output_type": "stream",
     "text": [
      "563/563 - 10s - loss: 0.0497 - accuracy: 0.9866 - 10s/epoch - 18ms/step\n",
      "Loss: 0.04968198016285896, Test accuracy: 0.986567497253418\n",
      "Epoch 7/10\n"
     ]
    },
    {
     "name": "stderr",
     "output_type": "stream",
     "text": [
      "                                                                                                                            \r"
     ]
    },
    {
     "name": "stdout",
     "output_type": "stream",
     "text": [
      "563/563 - 9s - loss: 0.0370 - accuracy: 0.9903 - 9s/epoch - 16ms/step\n",
      "Loss: 0.036983273923397064, Test accuracy: 0.9903419017791748\n",
      "Epoch 8/10\n"
     ]
    },
    {
     "name": "stderr",
     "output_type": "stream",
     "text": [
      "                                                                                                                            \r"
     ]
    },
    {
     "name": "stdout",
     "output_type": "stream",
     "text": [
      "563/563 - 10s - loss: 0.0441 - accuracy: 0.9880 - 10s/epoch - 18ms/step\n",
      "Loss: 0.04414549097418785, Test accuracy: 0.9880106449127197\n",
      "Epoch 9/10\n"
     ]
    },
    {
     "name": "stderr",
     "output_type": "stream",
     "text": [
      "                                                                                                                            \r"
     ]
    },
    {
     "name": "stdout",
     "output_type": "stream",
     "text": [
      "563/563 - 10s - loss: 0.0441 - accuracy: 0.9917 - 10s/epoch - 17ms/step\n",
      "Loss: 0.044146303087472916, Test accuracy: 0.9916740655899048\n",
      "Epoch 10/10\n"
     ]
    },
    {
     "name": "stderr",
     "output_type": "stream",
     "text": [
      "                                                                                                                            \r"
     ]
    },
    {
     "name": "stdout",
     "output_type": "stream",
     "text": [
      "563/563 - 10s - loss: 0.0358 - accuracy: 0.9909 - 10s/epoch - 18ms/step\n",
      "Loss: 0.0358140803873539, Test accuracy: 0.990896999835968\n",
      "CPU times: user 20h 39min 47s, sys: 2h 38min 37s, total: 23h 18min 24s\n",
      "Wall time: 3h 21min\n"
     ]
    }
   ],
   "source": [
    "%%time\n",
    "#reuse same cnn architecture for adversarial training\n",
    "mobilenet_model.compile(optimizer='adam',\n",
    "                  loss='categorical_crossentropy',\n",
    "                  metrics=[\"accuracy\"])\n",
    "\n",
    "mobilenet_adv = adv_training(mobilenet_model, epochs=10)"
   ]
  },
  {
   "cell_type": "code",
   "execution_count": 55,
   "metadata": {},
   "outputs": [
    {
     "name": "stdout",
     "output_type": "stream",
     "text": [
      "Epoch 1/10\n"
     ]
    },
    {
     "name": "stderr",
     "output_type": "stream",
     "text": [
      "                                                                                                                        \r"
     ]
    },
    {
     "name": "stdout",
     "output_type": "stream",
     "text": [
      "128/128 - 5s - loss: 0.0713 - accuracy: 0.9800 - 5s/epoch - 41ms/step\n",
      "Loss: 0.0712554007768631, Test accuracy: 0.979985237121582\n",
      "Epoch 2/10\n"
     ]
    },
    {
     "name": "stderr",
     "output_type": "stream",
     "text": [
      "                                                                                                                        \r"
     ]
    },
    {
     "name": "stdout",
     "output_type": "stream",
     "text": [
      "128/128 - 4s - loss: 0.0400 - accuracy: 0.9907 - 4s/epoch - 33ms/step\n",
      "Loss: 0.039986751973629, Test accuracy: 0.990667998790741\n",
      "Epoch 3/10\n"
     ]
    },
    {
     "name": "stderr",
     "output_type": "stream",
     "text": [
      "                                                                                                                        \r"
     ]
    },
    {
     "name": "stdout",
     "output_type": "stream",
     "text": [
      "128/128 - 4s - loss: 0.0558 - accuracy: 0.9851 - 4s/epoch - 33ms/step\n",
      "Loss: 0.05582234635949135, Test accuracy: 0.9851424098014832\n",
      "Epoch 4/10\n"
     ]
    },
    {
     "name": "stderr",
     "output_type": "stream",
     "text": [
      "                                                                                                                        \r"
     ]
    },
    {
     "name": "stdout",
     "output_type": "stream",
     "text": [
      "128/128 - 4s - loss: 0.0699 - accuracy: 0.9835 - 4s/epoch - 33ms/step\n",
      "Loss: 0.0699407085776329, Test accuracy: 0.9835461974143982\n",
      "Epoch 5/10\n"
     ]
    },
    {
     "name": "stderr",
     "output_type": "stream",
     "text": [
      "                                                                                                                        \r"
     ]
    },
    {
     "name": "stdout",
     "output_type": "stream",
     "text": [
      "128/128 - 4s - loss: 0.1391 - accuracy: 0.9695 - 4s/epoch - 32ms/step\n",
      "Loss: 0.13909058272838593, Test accuracy: 0.9695481061935425\n",
      "Epoch 6/10\n"
     ]
    },
    {
     "name": "stderr",
     "output_type": "stream",
     "text": [
      "                                                                                                                        \r"
     ]
    },
    {
     "name": "stdout",
     "output_type": "stream",
     "text": [
      "128/128 - 4s - loss: 0.5495 - accuracy: 0.9245 - 4s/epoch - 34ms/step\n",
      "Loss: 0.5495046377182007, Test accuracy: 0.9244843125343323\n",
      "Epoch 7/10\n"
     ]
    },
    {
     "name": "stderr",
     "output_type": "stream",
     "text": [
      "                                                                                                                        \r"
     ]
    },
    {
     "name": "stdout",
     "output_type": "stream",
     "text": [
      "128/128 - 4s - loss: 0.0367 - accuracy: 0.9893 - 4s/epoch - 33ms/step\n",
      "Loss: 0.036674581468105316, Test accuracy: 0.9893172979354858\n",
      "Epoch 8/10\n"
     ]
    },
    {
     "name": "stderr",
     "output_type": "stream",
     "text": [
      "                                                                                                                        \r"
     ]
    },
    {
     "name": "stdout",
     "output_type": "stream",
     "text": [
      "128/128 - 4s - loss: 0.0580 - accuracy: 0.9858 - 4s/epoch - 33ms/step\n",
      "Loss: 0.05804228037595749, Test accuracy: 0.9857563972473145\n",
      "Epoch 9/10\n"
     ]
    },
    {
     "name": "stderr",
     "output_type": "stream",
     "text": [
      "                                                                                                                        \r"
     ]
    },
    {
     "name": "stdout",
     "output_type": "stream",
     "text": [
      "128/128 - 4s - loss: 0.0334 - accuracy: 0.9914 - 4s/epoch - 33ms/step\n",
      "Loss: 0.033440038561820984, Test accuracy: 0.9914047122001648\n",
      "Epoch 10/10\n"
     ]
    },
    {
     "name": "stderr",
     "output_type": "stream",
     "text": [
      "                                                                                                                        \r"
     ]
    },
    {
     "name": "stdout",
     "output_type": "stream",
     "text": [
      "128/128 - 4s - loss: 0.0417 - accuracy: 0.9893 - 4s/epoch - 33ms/step\n",
      "Loss: 0.04168446734547615, Test accuracy: 0.9893172979354858\n",
      "CPU times: user 16h 40min 48s, sys: 47min 27s, total: 17h 28min 15s\n",
      "Wall time: 1h 10min 1s\n"
     ]
    }
   ],
   "source": [
    "%%time\n",
    "#reuse same resnet architecture for adversarial training\n",
    "resnet_model.compile(optimizer='adam',\n",
    "                  loss='categorical_crossentropy',\n",
    "                  metrics=[\"accuracy\"])\n",
    "\n",
    "resnet_adv = adv_training(resnet_model, epochs=10)"
   ]
  },
  {
   "cell_type": "code",
   "execution_count": 61,
   "metadata": {},
   "outputs": [
    {
     "name": "stdout",
     "output_type": "stream",
     "text": [
      "Epoch 1/10\n"
     ]
    },
    {
     "name": "stderr",
     "output_type": "stream",
     "text": [
      "                                                                                                                        \r"
     ]
    },
    {
     "name": "stdout",
     "output_type": "stream",
     "text": [
      "128/128 - 8s - loss: 0.0611 - accuracy: 0.9801 - 8s/epoch - 65ms/step\n",
      "Loss: 0.06108769401907921, Test accuracy: 0.9801080822944641\n",
      "Epoch 2/10\n"
     ]
    },
    {
     "name": "stderr",
     "output_type": "stream",
     "text": [
      "                                                                                                                        \r"
     ]
    },
    {
     "name": "stdout",
     "output_type": "stream",
     "text": [
      "128/128 - 7s - loss: 0.0595 - accuracy: 0.9829 - 7s/epoch - 51ms/step\n",
      "Loss: 0.05949874222278595, Test accuracy: 0.9829322099685669\n",
      "Epoch 3/10\n"
     ]
    },
    {
     "name": "stderr",
     "output_type": "stream",
     "text": [
      "                                                                                                                        \r"
     ]
    },
    {
     "name": "stdout",
     "output_type": "stream",
     "text": [
      "128/128 - 7s - loss: 0.0425 - accuracy: 0.9880 - 7s/epoch - 51ms/step\n",
      "Loss: 0.04249095171689987, Test accuracy: 0.9879665970802307\n",
      "Epoch 4/10\n"
     ]
    },
    {
     "name": "stderr",
     "output_type": "stream",
     "text": [
      "                                                                                                                        \r"
     ]
    },
    {
     "name": "stdout",
     "output_type": "stream",
     "text": [
      "128/128 - 7s - loss: 0.0272 - accuracy: 0.9915 - 7s/epoch - 51ms/step\n",
      "Loss: 0.027228275313973427, Test accuracy: 0.9915274977684021\n",
      "Epoch 5/10\n"
     ]
    },
    {
     "name": "stderr",
     "output_type": "stream",
     "text": [
      "                                                                                                                        \r"
     ]
    },
    {
     "name": "stdout",
     "output_type": "stream",
     "text": [
      "128/128 - 7s - loss: 0.0506 - accuracy: 0.9866 - 7s/epoch - 51ms/step\n",
      "Loss: 0.05064840242266655, Test accuracy: 0.9866158962249756\n",
      "Epoch 6/10\n"
     ]
    },
    {
     "name": "stderr",
     "output_type": "stream",
     "text": [
      "                                                                                                                        \r"
     ]
    },
    {
     "name": "stdout",
     "output_type": "stream",
     "text": [
      "128/128 - 7s - loss: 0.0344 - accuracy: 0.9907 - 7s/epoch - 51ms/step\n",
      "Loss: 0.03435656800866127, Test accuracy: 0.990667998790741\n",
      "Epoch 7/10\n"
     ]
    },
    {
     "name": "stderr",
     "output_type": "stream",
     "text": [
      "                                                                                                                        \r"
     ]
    },
    {
     "name": "stdout",
     "output_type": "stream",
     "text": [
      "128/128 - 7s - loss: 0.0432 - accuracy: 0.9902 - 7s/epoch - 51ms/step\n",
      "Loss: 0.04316643252968788, Test accuracy: 0.990176796913147\n",
      "Epoch 8/10\n"
     ]
    },
    {
     "name": "stderr",
     "output_type": "stream",
     "text": [
      "                                                                                                                        \r"
     ]
    },
    {
     "name": "stdout",
     "output_type": "stream",
     "text": [
      "128/128 - 7s - loss: 0.0703 - accuracy: 0.9800 - 7s/epoch - 51ms/step\n",
      "Loss: 0.07026202976703644, Test accuracy: 0.979985237121582\n",
      "Epoch 9/10\n"
     ]
    },
    {
     "name": "stderr",
     "output_type": "stream",
     "text": [
      "                                                                                                                        \r"
     ]
    },
    {
     "name": "stdout",
     "output_type": "stream",
     "text": [
      "128/128 - 7s - loss: 0.0236 - accuracy: 0.9934 - 7s/epoch - 51ms/step\n",
      "Loss: 0.023610737174749374, Test accuracy: 0.9933693408966064\n",
      "Epoch 10/10\n"
     ]
    },
    {
     "name": "stderr",
     "output_type": "stream",
     "text": [
      "                                                                                                                        \r"
     ]
    },
    {
     "name": "stdout",
     "output_type": "stream",
     "text": [
      "128/128 - 7s - loss: 0.0264 - accuracy: 0.9940 - 7s/epoch - 52ms/step\n",
      "Loss: 0.02642611786723137, Test accuracy: 0.9939833283424377\n",
      "CPU times: user 18h 6min 7s, sys: 1h 46min 25s, total: 19h 52min 33s\n",
      "Wall time: 2h 12min 8s\n"
     ]
    }
   ],
   "source": [
    "%%time\n",
    "#reuse same resnet architecture for adversarial training\n",
    "densenet_model.compile(optimizer='adam',\n",
    "                  loss='categorical_crossentropy',\n",
    "                  metrics=[\"accuracy\"])\n",
    "\n",
    "densenet_adv = adv_training(densenet_model, epochs=10)"
   ]
  },
  {
   "cell_type": "code",
   "execution_count": 62,
   "metadata": {},
   "outputs": [],
   "source": [
    "# cnn_adv.save('models/adv/cnn_mnist_adv.h5')\n",
    "# mlp_adv.save('models/adv/mlp_mnist_adv.h5')\n",
    "# mobilenet_adv.save('models/adv/mobilenet_mnist_adv.h5')\n",
    "# resnet_adv.save('models/adv/resnet_mnist_adv.h5')\n",
    "# densenet_adv.save('models/adv/densenet_mnist_adv.h5')"
   ]
  },
  {
   "cell_type": "code",
   "execution_count": 66,
   "metadata": {},
   "outputs": [],
   "source": [
    "cnn_std = tf.keras.models.load_model('models/std/cnn_mnist_std.h5')\n",
    "mlp_std = tf.keras.models.load_model('models/std/mlp_mnist_std.h5')\n",
    "mobilenet_std = tf.keras.models.load_model('models/std/mobilenet_mnist_std.h5')\n",
    "resnet_std = tf.keras.models.load_model('models/std/resnet_mnist_std.h5')\n",
    "densenet_std = tf.keras.models.load_model('models/std/densenet_mnist_std.h5')\n",
    "\n",
    "cnn_adv = tf.keras.models.load_model('models/adv/cnn_mnist_adv.h5')\n",
    "mlp_adv = tf.keras.models.load_model('models/adv/mlp_mnist_adv.h5')\n",
    "mobilenet_adv = tf.keras.models.load_model('models/adv/mobilenet_mnist_adv.h5')\n",
    "resnet_adv = tf.keras.models.load_model('models/adv/resnet_mnist_adv.h5')\n",
    "densenet_adv = tf.keras.models.load_model('models/adv/densenet_mnist_adv.h5')\n",
    "\n",
    "std_list = [cnn_std, mlp_std, mobilenet_std, resnet_std, densenet_std]\n",
    "adv_list = [cnn_adv, mlp_adv, mobilenet_adv, resnet_adv, densenet_adv]\n"
   ]
  },
  {
   "cell_type": "code",
   "execution_count": 68,
   "metadata": {},
   "outputs": [],
   "source": [
    "tf.keras.backend.clear_session()"
   ]
  },
  {
   "cell_type": "code",
   "execution_count": 93,
   "metadata": {},
   "outputs": [],
   "source": [
    "# Generate Adversarial Examples\n",
    "\n",
    "def generate_adversarial_test_dataset(dataset, model, epsilon=0.01):\n",
    "    def gen():\n",
    "        for images, labels in dataset:\n",
    "            adv_images = images + epsilon * create_adversarial_pattern(model, images, labels)\n",
    "            adv_images = tf.clip_by_value(adv_images, 0.0, 1.0)\n",
    "            yield adv_images, labels\n",
    "    return tf.data.Dataset.from_generator(\n",
    "        gen,\n",
    "        output_signature=(\n",
    "            tf.TensorSpec(shape=(None, 32, 32, 3), dtype=tf.float32),\n",
    "            tf.TensorSpec(shape=(64,10), dtype=tf.int32)\n",
    "        )\n",
    "    )"
   ]
  },
  {
   "cell_type": "code",
   "execution_count": 78,
   "metadata": {},
   "outputs": [],
   "source": [
    "\"\"\"generate adversarial test set for standard models\"\"\"\n",
    "adv_test_set_cnn_std = generate_adversarial_test_dataset(test_dataset, cnn_std)\n",
    "adv_test_set_mlp_std = generate_adversarial_test_dataset(test_dataset, mlp_std)\n",
    "adv_test_set_mobilenet_std = generate_adversarial_test_dataset(test_dataset, mobilenet_std)\n",
    "adv_test_set_resnet_std = generate_adversarial_test_dataset(test_dataset, resnet_std)\n",
    "adv_test_set_densenet_std = generate_adversarial_test_dataset(test_dataset, densenet_std)"
   ]
  },
  {
   "cell_type": "code",
   "execution_count": 131,
   "metadata": {},
   "outputs": [
    {
     "name": "stdout",
     "output_type": "stream",
     "text": [
      "Normalized values:  (0.0, 1.0)\n"
     ]
    },
    {
     "data": {
      "image/png": "[encoded data removed]",
      "text/plain": [
       "<Figure size 640x480 with 1 Axes>"
      ]
     },
     "metadata": {},
     "output_type": "display_data"
    }
   ],
   "source": [
    "for img_batch, label_batch in adv_test_set_mlp_std.take(1):\n",
    "    img = np.array(img_batch)\n",
    "    label = np.argmax(label_batch)\n",
    "    print('Normalized values: ', (np.min(img_batch[0]), np.max(img_batch[0])))\n",
    "    plt.imshow(img[0])\n",
    "    plt.title(f\"label : {label}\")"
   ]
  },
  {
   "cell_type": "code",
   "execution_count": 128,
   "metadata": {},
   "outputs": [
    {
     "name": "stdout",
     "output_type": "stream",
     "text": [
      "14/14 [==============================] - 0s 3ms/step - loss: 0.0347 - accuracy: 0.9888\n",
      "14/14 [==============================] - 0s 2ms/step - loss: 0.1614 - accuracy: 0.9688\n",
      "14/14 [==============================] - 0s 22ms/step - loss: 0.0897 - accuracy: 0.9777\n",
      "14/14 [==============================] - 1s 37ms/step - loss: 0.0868 - accuracy: 0.9766\n",
      "14/14 [==============================] - 1s 56ms/step - loss: 0.0528 - accuracy: 0.9866\n",
      "CNN Std Test Accuracy: 0.9888\n",
      "MLP Std Test Accuracy: 0.9688\n",
      "MobileNet Std Test Accuracy: 0.9777\n",
      "ResNet Std Test Accuracy: 0.9766\n",
      "DenseNet Std Accuracy: 0.9866\n"
     ]
    }
   ],
   "source": [
    "# Evaluate std models on original test set (standard test set)\n",
    "_, std_test_acc_cnn_std = cnn_std.evaluate(test_dataset)\n",
    "_, std_test_acc_mlp_std = mlp_std.evaluate(test_dataset)\n",
    "_, std_test_acc_mobilenet_std = mobilenet_std.evaluate(test_dataset)\n",
    "_, std_test_acc_resnet_std = resnet_std.evaluate(test_dataset)\n",
    "_, std_test_densenet_std = densenet_std.evaluate(test_dataset)\n",
    "\n",
    "print(f\"CNN Std Test Accuracy: {std_test_acc_cnn_std:.4f}\")\n",
    "print(f\"MLP Std Test Accuracy: {std_test_acc_mlp_std:.4f}\")\n",
    "print(f\"MobileNet Std Test Accuracy: {std_test_acc_mobilenet_std:.4f}\")\n",
    "print(f\"ResNet Std Test Accuracy: {std_test_acc_resnet_std:.4f}\")\n",
    "print(f\"DenseNet Std Accuracy: {std_test_densenet_std:.4f}\")"
   ]
  },
  {
   "cell_type": "code",
   "execution_count": 100,
   "metadata": {},
   "outputs": [
    {
     "name": "stdout",
     "output_type": "stream",
     "text": [
      "14/14 [==============================] - 1s 33ms/step - loss: 0.0922 - accuracy: 0.9688\n",
      "14/14 [==============================] - 0s 12ms/step - loss: 0.3517 - accuracy: 0.9453\n",
      "14/14 [==============================] - 4s 283ms/step - loss: 0.1725 - accuracy: 0.9609\n",
      "14/14 [==============================] - 5s 360ms/step - loss: 0.1223 - accuracy: 0.9699\n",
      "14/14 [==============================] - 10s 685ms/step - loss: 0.1316 - accuracy: 0.9688\n",
      "CNN Std Adv-Test Accuracy: 0.9688\n",
      "MLP Std Adv-Test Accuracy: 0.9453\n",
      "MobileNet Std Adv-Test Accuracy: 0.9609\n",
      "ResNet Std Adv-Test Accuracy: 0.9699\n",
      "DenseNet Std Adv-Accuracy: 0.9688\n"
     ]
    }
   ],
   "source": [
    "# Evaluate std models on the adversarial test set\n",
    "_, adv_test_acc_cnn_std = cnn_std.evaluate(adv_test_set_cnn_std)\n",
    "_, adv_test_acc_mlp_std = mlp_std.evaluate(adv_test_set_mlp_std)\n",
    "_, adv_test_acc_mobilenet_std = mobilenet_std.evaluate(adv_test_set_mobilenet_std)\n",
    "_, adv_test_acc_resnet_std = resnet_std.evaluate(adv_test_set_resnet_std)\n",
    "_, adv_test_densenet_std = densenet_std.evaluate(adv_test_set_densenet_std)\n",
    "\n",
    "print(f\"CNN Std Adv-Test Accuracy: {adv_test_acc_cnn_std:.4f}\")\n",
    "print(f\"MLP Std Adv-Test Accuracy: {adv_test_acc_mlp_std:.4f}\")\n",
    "print(f\"MobileNet Std Adv-Test Accuracy: {adv_test_acc_mobilenet_std:.4f}\")\n",
    "print(f\"ResNet Std Adv-Test Accuracy: {adv_test_acc_resnet_std:.4f}\")\n",
    "print(f\"DenseNet Std Adv-Accuracy: {adv_test_densenet_std:.4f}\")"
   ]
  },
  {
   "cell_type": "code",
   "execution_count": 101,
   "metadata": {},
   "outputs": [],
   "source": [
    "std_test_acc_std = [std_test_acc_cnn_std, std_test_acc_mlp_std, std_test_acc_mobilenet_std, std_test_acc_resnet_std, std_test_densenet_std]\n",
    "adv_test_acc_std = [adv_test_acc_cnn_std, adv_test_acc_mlp_std, adv_test_acc_mobilenet_std, adv_test_acc_resnet_std, adv_test_densenet_std]"
   ]
  },
  {
   "cell_type": "code",
   "execution_count": 102,
   "metadata": {},
   "outputs": [
    {
     "name": "stdout",
     "output_type": "stream",
     "text": [
      "Robustness score for model 1: 0.9775\n",
      "Robustness score for model 2: 0.9758\n",
      "Robustness score for model 3: 0.9840\n",
      "Robustness score for model 4: 0.9954\n",
      "Robustness score for model 5: 0.9808\n"
     ]
    }
   ],
   "source": [
    "#calculate robustness score  for standard models\n",
    "# R = adv_test_acc_std/std_test_acc_std (i.e performance on adversarial test set / performance on standard test set)\n",
    "model_names = ['CNN', 'MLP', 'MobileNet', 'ResNet', 'DenseNet']\n",
    "robustness_scores_std = [adv / std for adv, std in zip(adv_test_acc_std, std_test_acc_std)]\n",
    "\n",
    "for i, score in enumerate(robustness_scores_std):\n",
    "    print(f\"Robustness score for model {i+1}: {score:.4f}\")"
   ]
  },
  {
   "cell_type": "code",
   "execution_count": 108,
   "metadata": {},
   "outputs": [],
   "source": [
    "\"\"\"generate adversarial test set for adversarial models\"\"\"\n",
    "adv_test_set_cnn_adv = generate_adversarial_test_dataset(test_dataset, cnn_adv)\n",
    "adv_test_set_mlp_adv = generate_adversarial_test_dataset(test_dataset, mlp_adv)\n",
    "adv_test_set_mobilenet_adv = generate_adversarial_test_dataset(test_dataset, mobilenet_adv)\n",
    "adv_test_set_resnet_adv = generate_adversarial_test_dataset(test_dataset, resnet_adv)\n",
    "adv_test_set_densenet_adv = generate_adversarial_test_dataset(test_dataset, densenet_adv)"
   ]
  },
  {
   "cell_type": "code",
   "execution_count": 109,
   "metadata": {},
   "outputs": [
    {
     "name": "stdout",
     "output_type": "stream",
     "text": [
      "14/14 [==============================] - 0s 3ms/step - loss: 0.0473 - accuracy: 0.9855\n",
      "14/14 [==============================] - 0s 2ms/step - loss: 0.2189 - accuracy: 0.9732\n",
      "14/14 [==============================] - 0s 22ms/step - loss: 0.0835 - accuracy: 0.9810\n",
      "14/14 [==============================] - 1s 36ms/step - loss: 0.1000 - accuracy: 0.9732\n",
      "14/14 [==============================] - 1s 56ms/step - loss: 0.0386 - accuracy: 0.9877\n",
      "CNN Adv Test Accuracy: 0.9855\n",
      "MLP Adv Test Accuracy: 0.9732\n",
      "MobileNet AdvTest Accuracy: 0.9810\n",
      "ResNet Adv Test Accuracy: 0.9732\n",
      "DenseNet Adv Accuracy: 0.9877\n"
     ]
    }
   ],
   "source": [
    "# Evaluate adv models on standard test set\n",
    "_, std_test_acc_cnn_adv = cnn_adv.evaluate(test_dataset)\n",
    "_, std_test_acc_mlp_adv = mlp_adv.evaluate(test_dataset)\n",
    "_, std_test_acc_mobilenet_adv = mobilenet_adv.evaluate(test_dataset)\n",
    "_, std_test_acc_resnet_adv = resnet_adv.evaluate(test_dataset)\n",
    "_, std_test_densenet_adv = densenet_adv.evaluate(test_dataset)\n",
    "\n",
    "print(f\"CNN Adv Test Accuracy: {std_test_acc_cnn_adv:.4f}\")\n",
    "print(f\"MLP Adv Test Accuracy: {std_test_acc_mlp_adv:.4f}\")\n",
    "print(f\"MobileNet AdvTest Accuracy: {std_test_acc_mobilenet_adv:.4f}\")\n",
    "print(f\"ResNet Adv Test Accuracy: {std_test_acc_resnet_adv:.4f}\")\n",
    "print(f\"DenseNet Adv Accuracy: {std_test_densenet_adv:.4f}\")\n"
   ]
  },
  {
   "cell_type": "code",
   "execution_count": 110,
   "metadata": {},
   "outputs": [
    {
     "name": "stdout",
     "output_type": "stream",
     "text": [
      "14/14 [==============================] - 0s 30ms/step - loss: 0.0627 - accuracy: 0.9743\n",
      "14/14 [==============================] - 0s 11ms/step - loss: 0.2566 - accuracy: 0.9565\n",
      "14/14 [==============================] - 4s 270ms/step - loss: 0.1046 - accuracy: 0.9732\n",
      "14/14 [==============================] - 5s 348ms/step - loss: 0.1049 - accuracy: 0.9710\n",
      "14/14 [==============================] - 10s 695ms/step - loss: 0.0772 - accuracy: 0.9766\n",
      "CNN Std Adv-Test Accuracy: 0.9743\n",
      "MLP Std Adv-Test Accuracy: 0.9565\n",
      "MobileNet Std Adv-Test Accuracy: 0.9732\n",
      "ResNet Std Adv-Test Accuracy: 0.9710\n",
      "DenseNet Std Adv-Accuracy: 0.9766\n"
     ]
    }
   ],
   "source": [
    "# Evaluate adv models on the adversarial test set\n",
    "_, adv_test_acc_cnn_adv = cnn_std.evaluate(adv_test_set_cnn_adv)\n",
    "_, adv_test_acc_mlp_adv = mlp_std.evaluate(adv_test_set_mlp_adv)\n",
    "_, adv_test_acc_mobilenet_adv = mobilenet_std.evaluate(adv_test_set_mobilenet_adv)\n",
    "_, adv_test_acc_resnet_adv = resnet_std.evaluate(adv_test_set_resnet_adv)\n",
    "_, adv_test_densenet_adv = densenet_std.evaluate(adv_test_set_densenet_adv)\n",
    "\n",
    "print(f\"CNN Std Adv-Test Accuracy: {adv_test_acc_cnn_adv:.4f}\")\n",
    "print(f\"MLP Std Adv-Test Accuracy: {adv_test_acc_mlp_adv:.4f}\")\n",
    "print(f\"MobileNet Std Adv-Test Accuracy: {adv_test_acc_mobilenet_adv:.4f}\")\n",
    "print(f\"ResNet Std Adv-Test Accuracy: {adv_test_acc_resnet_adv:.4f}\")\n",
    "print(f\"DenseNet Std Adv-Accuracy: {adv_test_densenet_adv:.4f}\")"
   ]
  },
  {
   "cell_type": "code",
   "execution_count": 111,
   "metadata": {},
   "outputs": [],
   "source": [
    "std_test_acc_adv = [std_test_acc_cnn_adv, std_test_acc_mlp_adv, std_test_acc_mobilenet_adv, std_test_acc_resnet_adv, std_test_densenet_adv]\n",
    "adv_test_acc_adv = [adv_test_acc_cnn_adv, adv_test_acc_mlp_adv, adv_test_acc_mobilenet_adv, adv_test_acc_resnet_adv, adv_test_densenet_adv]"
   ]
  },
  {
   "cell_type": "code",
   "execution_count": 112,
   "metadata": {},
   "outputs": [
    {
     "name": "stdout",
     "output_type": "stream",
     "text": [
      "Robustness score for model 1: 0.9887\n",
      "Robustness score for model 2: 0.9828\n",
      "Robustness score for model 3: 0.9920\n",
      "Robustness score for model 4: 0.9977\n",
      "Robustness score for model 5: 0.9887\n"
     ]
    }
   ],
   "source": [
    "#calculate robustness score  for adversarial models\n",
    "\n",
    "robustness_scores_adv = [adv / std for adv, std in zip(adv_test_acc_adv, std_test_acc_adv)]\n",
    "\n",
    "for i, score in enumerate(robustness_scores_adv):\n",
    "    print(f\"Robustness score for model {i+1}: {score:.4f}\")"
   ]
  },
  {
   "cell_type": "code",
   "execution_count": null,
   "metadata": {},
   "outputs": [],
   "source": []
  }
 ],
 "metadata": {
  "kernelspec": {
   "display_name": "Python 3 (ipykernel)",
   "language": "python",
   "name": "python3"
  },
  "language_info": {
   "codemirror_mode": {
    "name": "ipython",
    "version": 3
   },
   "file_extension": ".py",
   "mimetype": "text/x-python",
   "name": "python",
   "nbconvert_exporter": "python",
   "pygments_lexer": "ipython3",
   "version": "3.11.6"
  }
 },
 "nbformat": 4,
 "nbformat_minor": 4
}
